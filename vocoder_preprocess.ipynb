{
 "cells": [
  {
   "cell_type": "code",
   "execution_count": 1,
   "id": "a8120790",
   "metadata": {},
   "outputs": [
    {
     "name": "stderr",
     "output_type": "stream",
     "text": [
      "/home/ec2-user/anaconda3/envs/python3/lib/python3.6/site-packages/boto3/compat.py:88: PythonDeprecationWarning: Boto3 will no longer support Python 3.6 starting May 30, 2022. To continue receiving service updates, bug fixes, and security updates please upgrade to Python 3.7 or later. More information can be found here: https://aws.amazon.com/blogs/developer/python-support-policy-updates-for-aws-sdks-and-tools/\n",
      "  warnings.warn(warning, PythonDeprecationWarning)\n"
     ]
    }
   ],
   "source": [
    "## Writing to s3\n",
    "from io import BytesIO\n",
    "import numpy as np\n",
    "from urllib.parse import urlparse\n",
    "import boto3\n",
    "client = boto3.client(\"s3\")\n",
    "\n",
    "def to_s3_npy(data: np.array, s3_uri: str):\n",
    "    # s3_uri looks like f\"s3://{BUCKET_NAME}/{KEY}\"\n",
    "    bytes_ = BytesIO()\n",
    "    np.save(bytes_, data, allow_pickle=True)\n",
    "    bytes_.seek(0)\n",
    "    parsed_s3 = urlparse(s3_uri)\n",
    "    client.upload_fileobj(\n",
    "        Fileobj=bytes_, Bucket=parsed_s3.netloc, Key=parsed_s3.path[1:]\n",
    "    )\n",
    "    return True\n",
    "\n",
    "def from_s3_npy(s3_uri: str):\n",
    "    bytes_ = BytesIO()\n",
    "    parsed_s3 = urlparse(s3_uri)\n",
    "    client.download_fileobj(\n",
    "        Fileobj=bytes_, Bucket=parsed_s3.netloc, Key=parsed_s3.path[1:]\n",
    "    )\n",
    "    bytes_.seek(0)\n",
    "    return np.load(bytes_, allow_pickle=True)"
   ]
  },
  {
   "cell_type": "code",
   "execution_count": 2,
   "id": "42212a14",
   "metadata": {},
   "outputs": [],
   "source": [
    "from glob import glob\n",
    "\n",
    "import numpy as np\n",
    "import pandas as pd"
   ]
  },
  {
   "cell_type": "code",
   "execution_count": 3,
   "id": "e5481323",
   "metadata": {},
   "outputs": [
    {
     "data": {
      "text/html": [
       "<div>\n",
       "<style scoped>\n",
       "    .dataframe tbody tr th:only-of-type {\n",
       "        vertical-align: middle;\n",
       "    }\n",
       "\n",
       "    .dataframe tbody tr th {\n",
       "        vertical-align: top;\n",
       "    }\n",
       "\n",
       "    .dataframe thead th {\n",
       "        text-align: right;\n",
       "    }\n",
       "</style>\n",
       "<table border=\"1\" class=\"dataframe\">\n",
       "  <thead>\n",
       "    <tr style=\"text-align: right;\">\n",
       "      <th></th>\n",
       "      <th>split</th>\n",
       "      <th>id</th>\n",
       "      <th>audio_path</th>\n",
       "      <th>mels_path</th>\n",
       "    </tr>\n",
       "  </thead>\n",
       "  <tbody>\n",
       "    <tr>\n",
       "      <th>0</th>\n",
       "      <td>dev-clean</td>\n",
       "      <td>5536-43363-0010</td>\n",
       "      <td>audio-5536-43363-0010.npy</td>\n",
       "      <td>mel-5536-43363-0010.npy</td>\n",
       "    </tr>\n",
       "    <tr>\n",
       "      <th>1</th>\n",
       "      <td>dev-clean</td>\n",
       "      <td>5536-43363-0007</td>\n",
       "      <td>audio-5536-43363-0007.npy</td>\n",
       "      <td>mel-5536-43363-0007.npy</td>\n",
       "    </tr>\n",
       "    <tr>\n",
       "      <th>2</th>\n",
       "      <td>dev-clean</td>\n",
       "      <td>5536-43363-0014</td>\n",
       "      <td>audio-5536-43363-0014.npy</td>\n",
       "      <td>mel-5536-43363-0014.npy</td>\n",
       "    </tr>\n",
       "    <tr>\n",
       "      <th>3</th>\n",
       "      <td>dev-clean</td>\n",
       "      <td>5536-43363-0001</td>\n",
       "      <td>audio-5536-43363-0001.npy</td>\n",
       "      <td>mel-5536-43363-0001.npy</td>\n",
       "    </tr>\n",
       "    <tr>\n",
       "      <th>4</th>\n",
       "      <td>dev-clean</td>\n",
       "      <td>5536-43363-0017</td>\n",
       "      <td>audio-5536-43363-0017.npy</td>\n",
       "      <td>mel-5536-43363-0017.npy</td>\n",
       "    </tr>\n",
       "  </tbody>\n",
       "</table>\n",
       "</div>"
      ],
      "text/plain": [
       "       split               id                 audio_path  \\\n",
       "0  dev-clean  5536-43363-0010  audio-5536-43363-0010.npy   \n",
       "1  dev-clean  5536-43363-0007  audio-5536-43363-0007.npy   \n",
       "2  dev-clean  5536-43363-0014  audio-5536-43363-0014.npy   \n",
       "3  dev-clean  5536-43363-0001  audio-5536-43363-0001.npy   \n",
       "4  dev-clean  5536-43363-0017  audio-5536-43363-0017.npy   \n",
       "\n",
       "                 mels_path  \n",
       "0  mel-5536-43363-0010.npy  \n",
       "1  mel-5536-43363-0007.npy  \n",
       "2  mel-5536-43363-0014.npy  \n",
       "3  mel-5536-43363-0001.npy  \n",
       "4  mel-5536-43363-0017.npy  "
      ]
     },
     "execution_count": 3,
     "metadata": {},
     "output_type": "execute_result"
    }
   ],
   "source": [
    "df = pd.DataFrame(glob(\"../data/LibriSpeech/dev-clean/*/*/*\") + glob(\"../data/LibriSpeech/train-clean-100/*/*/*\"))\n",
    "df[\"split\"] = df[0].apply(lambda x:x.split(\"/\")[3])\n",
    "df[\"id\"] = df[0].apply(lambda x:x.split(\"/\")[-1].split(\".\")[0])\n",
    "df.drop(0, axis=1, inplace=True)\n",
    "\n",
    "\n",
    "base_dir = \"../data/SV2TTS\"\n",
    "\n",
    "dirs = {\n",
    "    \"audio_dir\": base_dir + \"/synthesizer/audio\",\n",
    "    \"mels_dir\": base_dir + \"/vocoder/mels_gta\"\n",
    "}\n",
    "\n",
    "# with open(f\"{base_dir}/vocoder/synthesized.txt\", \"r\") as fh:\n",
    "#     data = [line.split(\"|\")[: 2] for line in fh.readlines()]\n",
    "\n",
    "data = []\n",
    "with open(f\"{base_dir}/vocoder/synthesized.txt\", \"r\") as fh:\n",
    "    for line in fh.readlines():\n",
    "        line = line.split(\"|\")\n",
    "        line.insert(0, \"-\".join(line[0].split(\"-\")[1:]).split(\".\")[0])\n",
    "        data.append(line[:3])    \n",
    "\n",
    "df = df.merge(pd.DataFrame(data, columns=[\"id\", \"audio_path\", \"mels_path\"]))\n",
    "    \n",
    "df.head()"
   ]
  },
  {
   "cell_type": "code",
   "execution_count": 3,
   "id": "f72f6fee",
   "metadata": {},
   "outputs": [
    {
     "data": {
      "text/plain": [
       "train-clean-100    10280\n",
       "dev-clean           2333\n",
       "Name: split, dtype: int64"
      ]
     },
     "execution_count": 3,
     "metadata": {},
     "output_type": "execute_result"
    }
   ],
   "source": [
    "df.split.value_counts()"
   ]
  },
  {
   "cell_type": "code",
   "execution_count": 4,
   "id": "ba713947",
   "metadata": {},
   "outputs": [
    {
     "name": "stderr",
     "output_type": "stream",
     "text": [
      "/home/ec2-user/anaconda3/envs/python3/lib/python3.6/site-packages/ipykernel/__main__.py:4: SettingWithCopyWarning: \n",
      "A value is trying to be set on a copy of a slice from a DataFrame.\n",
      "Try using .loc[row_indexer,col_indexer] = value instead\n",
      "\n",
      "See the caveats in the documentation: https://pandas.pydata.org/pandas-docs/stable/user_guide/indexing.html#returning-a-view-versus-a-copy\n"
     ]
    },
    {
     "data": {
      "text/html": [
       "<div>\n",
       "<style scoped>\n",
       "    .dataframe tbody tr th:only-of-type {\n",
       "        vertical-align: middle;\n",
       "    }\n",
       "\n",
       "    .dataframe tbody tr th {\n",
       "        vertical-align: top;\n",
       "    }\n",
       "\n",
       "    .dataframe thead th {\n",
       "        text-align: right;\n",
       "    }\n",
       "</style>\n",
       "<table border=\"1\" class=\"dataframe\">\n",
       "  <thead>\n",
       "    <tr style=\"text-align: right;\">\n",
       "      <th></th>\n",
       "      <th>audio</th>\n",
       "      <th>mels</th>\n",
       "    </tr>\n",
       "  </thead>\n",
       "  <tbody>\n",
       "    <tr>\n",
       "      <th>0</th>\n",
       "      <td>[-0.0007731959, -0.00014497421, 9.6649484e-05,...</td>\n",
       "      <td>[[-3.8337, -3.8927107, -3.9315298, -3.8083508,...</td>\n",
       "    </tr>\n",
       "    <tr>\n",
       "      <th>1</th>\n",
       "      <td>[-0.002602506, -0.0030028915, -0.0036034698, -...</td>\n",
       "      <td>[[-3.6453233, -3.7025533, -3.7461853, -3.60947...</td>\n",
       "    </tr>\n",
       "    <tr>\n",
       "      <th>2</th>\n",
       "      <td>[0.0038086134, 0.0033171796, 0.0042386185, 0.0...</td>\n",
       "      <td>[[-3.5119064, -3.6034284, -3.6512876, -3.47596...</td>\n",
       "    </tr>\n",
       "    <tr>\n",
       "      <th>3</th>\n",
       "      <td>[-0.0020899854, -0.0024557328, -0.0019854861, ...</td>\n",
       "      <td>[[-3.624129, -3.715977, -3.7884045, -3.6129699...</td>\n",
       "    </tr>\n",
       "    <tr>\n",
       "      <th>4</th>\n",
       "      <td>[0.00037834997, 0.0006148187, 0.00070940616, 0...</td>\n",
       "      <td>[[-3.6661463, -3.747033, -3.805007, -3.6739264...</td>\n",
       "    </tr>\n",
       "  </tbody>\n",
       "</table>\n",
       "</div>"
      ],
      "text/plain": [
       "                                               audio  \\\n",
       "0  [-0.0007731959, -0.00014497421, 9.6649484e-05,...   \n",
       "1  [-0.002602506, -0.0030028915, -0.0036034698, -...   \n",
       "2  [0.0038086134, 0.0033171796, 0.0042386185, 0.0...   \n",
       "3  [-0.0020899854, -0.0024557328, -0.0019854861, ...   \n",
       "4  [0.00037834997, 0.0006148187, 0.00070940616, 0...   \n",
       "\n",
       "                                                mels  \n",
       "0  [[-3.8337, -3.8927107, -3.9315298, -3.8083508,...  \n",
       "1  [[-3.6453233, -3.7025533, -3.7461853, -3.60947...  \n",
       "2  [[-3.5119064, -3.6034284, -3.6512876, -3.47596...  \n",
       "3  [[-3.624129, -3.715977, -3.7884045, -3.6129699...  \n",
       "4  [[-3.6661463, -3.747033, -3.805007, -3.6739264...  "
      ]
     },
     "execution_count": 4,
     "metadata": {},
     "output_type": "execute_result"
    }
   ],
   "source": [
    "tmp = df[df.split==\"dev-clean\"]\n",
    "\n",
    "for name in [\"audio\", \"mels\"]:\n",
    "    tmp[name] = tmp[f\"{name}_path\"].apply(lambda x: np.load(f\"{dirs[f'{name}_dir']}/{x}\"))\\\n",
    "    \n",
    "tmp = tmp[[\"audio\", \"mels\"]]\n",
    "    \n",
    "tmp.head()"
   ]
  },
  {
   "cell_type": "code",
   "execution_count": 7,
   "id": "aaf0134f",
   "metadata": {},
   "outputs": [
    {
     "data": {
      "text/plain": [
       "True"
      ]
     },
     "execution_count": 7,
     "metadata": {},
     "output_type": "execute_result"
    }
   ],
   "source": [
    "to_s3_npy(tmp.to_numpy(), \"s3://rtvc-data/preprocessed/vocoder_librispeech_valid.npy\")"
   ]
  },
  {
   "cell_type": "code",
   "execution_count": 8,
   "id": "2a03108d",
   "metadata": {},
   "outputs": [],
   "source": [
    "del tmp"
   ]
  },
  {
   "cell_type": "code",
   "execution_count": 9,
   "id": "d495ce41",
   "metadata": {},
   "outputs": [
    {
     "data": {
      "text/plain": [
       "3692"
      ]
     },
     "execution_count": 9,
     "metadata": {},
     "output_type": "execute_result"
    }
   ],
   "source": [
    "import gc\n",
    "gc.collect()"
   ]
  },
  {
   "cell_type": "code",
   "execution_count": 4,
   "id": "238b1744",
   "metadata": {},
   "outputs": [
    {
     "name": "stderr",
     "output_type": "stream",
     "text": [
      "/home/ec2-user/anaconda3/envs/python3/lib/python3.6/site-packages/ipykernel/__main__.py:4: SettingWithCopyWarning: \n",
      "A value is trying to be set on a copy of a slice from a DataFrame.\n",
      "Try using .loc[row_indexer,col_indexer] = value instead\n",
      "\n",
      "See the caveats in the documentation: https://pandas.pydata.org/pandas-docs/stable/user_guide/indexing.html#returning-a-view-versus-a-copy\n"
     ]
    },
    {
     "data": {
      "text/html": [
       "<div>\n",
       "<style scoped>\n",
       "    .dataframe tbody tr th:only-of-type {\n",
       "        vertical-align: middle;\n",
       "    }\n",
       "\n",
       "    .dataframe tbody tr th {\n",
       "        vertical-align: top;\n",
       "    }\n",
       "\n",
       "    .dataframe thead th {\n",
       "        text-align: right;\n",
       "    }\n",
       "</style>\n",
       "<table border=\"1\" class=\"dataframe\">\n",
       "  <thead>\n",
       "    <tr style=\"text-align: right;\">\n",
       "      <th></th>\n",
       "      <th>split</th>\n",
       "      <th>id</th>\n",
       "      <th>audio_path</th>\n",
       "      <th>mels_path</th>\n",
       "      <th>audio</th>\n",
       "      <th>mels</th>\n",
       "    </tr>\n",
       "  </thead>\n",
       "  <tbody>\n",
       "    <tr>\n",
       "      <th>2333</th>\n",
       "      <td>train-clean-100</td>\n",
       "      <td>1898-145720-0010</td>\n",
       "      <td>audio-1898-145720-0010.npy</td>\n",
       "      <td>mel-1898-145720-0010.npy</td>\n",
       "      <td>[-0.0014204666, -0.0014588577, -0.0013052936, ...</td>\n",
       "      <td>[[-4.01692, -4.0515966, -4.0459785, -3.9945538...</td>\n",
       "    </tr>\n",
       "    <tr>\n",
       "      <th>2334</th>\n",
       "      <td>train-clean-100</td>\n",
       "      <td>1898-145720-0011</td>\n",
       "      <td>audio-1898-145720-0011.npy</td>\n",
       "      <td>mel-1898-145720-0011.npy</td>\n",
       "      <td>[0.008353918, 0.007141253, 0.006332809, 0.0061...</td>\n",
       "      <td>[[-3.5591335, -3.626139, -3.6655426, -3.614958...</td>\n",
       "    </tr>\n",
       "    <tr>\n",
       "      <th>2335</th>\n",
       "      <td>train-clean-100</td>\n",
       "      <td>1898-145720-0000</td>\n",
       "      <td>audio-1898-145720-0000.npy</td>\n",
       "      <td>mel-1898-145720-0000.npy</td>\n",
       "      <td>[0.0044325194, 0.0037047928, 0.0019847103, 0.0...</td>\n",
       "      <td>[[-3.8294525, -3.913415, -3.9581838, -3.890682...</td>\n",
       "    </tr>\n",
       "    <tr>\n",
       "      <th>2336</th>\n",
       "      <td>train-clean-100</td>\n",
       "      <td>1898-145720-0007</td>\n",
       "      <td>audio-1898-145720-0007.npy</td>\n",
       "      <td>mel-1898-145720-0007.npy</td>\n",
       "      <td>[-0.0013790461, -0.0035625359, -0.0052863434, ...</td>\n",
       "      <td>[[-3.2182734, -3.3049483, -3.3779144, -3.32378...</td>\n",
       "    </tr>\n",
       "    <tr>\n",
       "      <th>2337</th>\n",
       "      <td>train-clean-100</td>\n",
       "      <td>1898-145720-0018</td>\n",
       "      <td>audio-1898-145720-0018.npy</td>\n",
       "      <td>mel-1898-145720-0018.npy</td>\n",
       "      <td>[-0.008375032, -0.0154069, -0.030260732, -0.03...</td>\n",
       "      <td>[[-3.0336277, -3.0452774, -3.0331461, -2.99663...</td>\n",
       "    </tr>\n",
       "  </tbody>\n",
       "</table>\n",
       "</div>"
      ],
      "text/plain": [
       "                split                id                  audio_path  \\\n",
       "2333  train-clean-100  1898-145720-0010  audio-1898-145720-0010.npy   \n",
       "2334  train-clean-100  1898-145720-0011  audio-1898-145720-0011.npy   \n",
       "2335  train-clean-100  1898-145720-0000  audio-1898-145720-0000.npy   \n",
       "2336  train-clean-100  1898-145720-0007  audio-1898-145720-0007.npy   \n",
       "2337  train-clean-100  1898-145720-0018  audio-1898-145720-0018.npy   \n",
       "\n",
       "                     mels_path  \\\n",
       "2333  mel-1898-145720-0010.npy   \n",
       "2334  mel-1898-145720-0011.npy   \n",
       "2335  mel-1898-145720-0000.npy   \n",
       "2336  mel-1898-145720-0007.npy   \n",
       "2337  mel-1898-145720-0018.npy   \n",
       "\n",
       "                                                  audio  \\\n",
       "2333  [-0.0014204666, -0.0014588577, -0.0013052936, ...   \n",
       "2334  [0.008353918, 0.007141253, 0.006332809, 0.0061...   \n",
       "2335  [0.0044325194, 0.0037047928, 0.0019847103, 0.0...   \n",
       "2336  [-0.0013790461, -0.0035625359, -0.0052863434, ...   \n",
       "2337  [-0.008375032, -0.0154069, -0.030260732, -0.03...   \n",
       "\n",
       "                                                   mels  \n",
       "2333  [[-4.01692, -4.0515966, -4.0459785, -3.9945538...  \n",
       "2334  [[-3.5591335, -3.626139, -3.6655426, -3.614958...  \n",
       "2335  [[-3.8294525, -3.913415, -3.9581838, -3.890682...  \n",
       "2336  [[-3.2182734, -3.3049483, -3.3779144, -3.32378...  \n",
       "2337  [[-3.0336277, -3.0452774, -3.0331461, -2.99663...  "
      ]
     },
     "execution_count": 4,
     "metadata": {},
     "output_type": "execute_result"
    }
   ],
   "source": [
    "tmp = df[df.split!=\"dev-clean\"]\n",
    "\n",
    "for name in [\"audio\", \"mels\"]:\n",
    "    tmp[name] = tmp[f\"{name}_path\"].apply(lambda x: np.load(f\"{dirs[f'{name}_dir']}/{x}\"))\n",
    "    \n",
    "tmp.head()"
   ]
  },
  {
   "cell_type": "code",
   "execution_count": null,
   "id": "4d157562",
   "metadata": {},
   "outputs": [],
   "source": [
    "to_s3_npy(tmp.to_numpy(), \"s3://rtvc-data/preprocessed/vocoder_librispeech_train.npy\")"
   ]
  },
  {
   "cell_type": "code",
   "execution_count": null,
   "id": "7fa9c0fe",
   "metadata": {},
   "outputs": [],
   "source": []
  },
  {
   "cell_type": "code",
   "execution_count": 6,
   "id": "f2e79c6e",
   "metadata": {},
   "outputs": [
    {
     "data": {
      "text/html": [
       "<div>\n",
       "<style scoped>\n",
       "    .dataframe tbody tr th:only-of-type {\n",
       "        vertical-align: middle;\n",
       "    }\n",
       "\n",
       "    .dataframe tbody tr th {\n",
       "        vertical-align: top;\n",
       "    }\n",
       "\n",
       "    .dataframe thead th {\n",
       "        text-align: right;\n",
       "    }\n",
       "</style>\n",
       "<table border=\"1\" class=\"dataframe\">\n",
       "  <thead>\n",
       "    <tr style=\"text-align: right;\">\n",
       "      <th></th>\n",
       "      <th>split</th>\n",
       "      <th>id</th>\n",
       "    </tr>\n",
       "  </thead>\n",
       "  <tbody>\n",
       "    <tr>\n",
       "      <th>0</th>\n",
       "      <td>dev-clean</td>\n",
       "      <td>5536-43363-0006</td>\n",
       "    </tr>\n",
       "    <tr>\n",
       "      <th>1</th>\n",
       "      <td>dev-clean</td>\n",
       "      <td>5536-43363-0010</td>\n",
       "    </tr>\n",
       "    <tr>\n",
       "      <th>2</th>\n",
       "      <td>dev-clean</td>\n",
       "      <td>5536-43363-0007</td>\n",
       "    </tr>\n",
       "    <tr>\n",
       "      <th>3</th>\n",
       "      <td>dev-clean</td>\n",
       "      <td>5536-43363-0014</td>\n",
       "    </tr>\n",
       "    <tr>\n",
       "      <th>4</th>\n",
       "      <td>dev-clean</td>\n",
       "      <td>5536-43363-0001</td>\n",
       "    </tr>\n",
       "    <tr>\n",
       "      <th>...</th>\n",
       "      <td>...</td>\n",
       "      <td>...</td>\n",
       "    </tr>\n",
       "    <tr>\n",
       "      <th>31919</th>\n",
       "      <td>train-clean-100</td>\n",
       "      <td>839-130898-0069</td>\n",
       "    </tr>\n",
       "    <tr>\n",
       "      <th>31920</th>\n",
       "      <td>train-clean-100</td>\n",
       "      <td>839-130898-0046</td>\n",
       "    </tr>\n",
       "    <tr>\n",
       "      <th>31921</th>\n",
       "      <td>train-clean-100</td>\n",
       "      <td>839-130898-0049</td>\n",
       "    </tr>\n",
       "    <tr>\n",
       "      <th>31922</th>\n",
       "      <td>train-clean-100</td>\n",
       "      <td>839-130898-0097</td>\n",
       "    </tr>\n",
       "    <tr>\n",
       "      <th>31923</th>\n",
       "      <td>train-clean-100</td>\n",
       "      <td>839-130898-0076</td>\n",
       "    </tr>\n",
       "  </tbody>\n",
       "</table>\n",
       "<p>31924 rows × 2 columns</p>\n",
       "</div>"
      ],
      "text/plain": [
       "                 split               id\n",
       "0            dev-clean  5536-43363-0006\n",
       "1            dev-clean  5536-43363-0010\n",
       "2            dev-clean  5536-43363-0007\n",
       "3            dev-clean  5536-43363-0014\n",
       "4            dev-clean  5536-43363-0001\n",
       "...                ...              ...\n",
       "31919  train-clean-100  839-130898-0069\n",
       "31920  train-clean-100  839-130898-0046\n",
       "31921  train-clean-100  839-130898-0049\n",
       "31922  train-clean-100  839-130898-0097\n",
       "31923  train-clean-100  839-130898-0076\n",
       "\n",
       "[31924 rows x 2 columns]"
      ]
     },
     "execution_count": 6,
     "metadata": {},
     "output_type": "execute_result"
    }
   ],
   "source": [
    "mapper = pd.DataFrame(glob(\"../data/LibriSpeech/dev-clean/*/*/*\") + glob(\"../data/LibriSpeech/train-clean-100/*/*/*\"))\n",
    "\n",
    "mapper[\"split\"] = mapper[0].apply(lambda x:x.split(\"/\")[3])\n",
    "\n",
    "mapper[\"id\"] = mapper[0].apply(lambda x:x.split(\"/\")[-1].split(\".\")[0])\n",
    "\n",
    "mapper.drop(0, axis=1, inplace=True)\n",
    "\n",
    "mapper"
   ]
  },
  {
   "cell_type": "code",
   "execution_count": 8,
   "id": "bc500c18",
   "metadata": {},
   "outputs": [],
   "source": [
    "tmp = df.merge(mapper)"
   ]
  },
  {
   "cell_type": "code",
   "execution_count": 9,
   "id": "4869590d",
   "metadata": {},
   "outputs": [
    {
     "data": {
      "text/plain": [
       "train-clean-100    10280\n",
       "dev-clean           2333\n",
       "Name: split, dtype: int64"
      ]
     },
     "execution_count": 9,
     "metadata": {},
     "output_type": "execute_result"
    }
   ],
   "source": [
    "tmp.split.value_counts()"
   ]
  },
  {
   "cell_type": "code",
   "execution_count": 12,
   "id": "b78c513b",
   "metadata": {},
   "outputs": [
    {
     "name": "stdout",
     "output_type": "stream",
     "text": [
      "<class 'pandas.core.frame.DataFrame'>\n",
      "Int64Index: 12613 entries, 0 to 12612\n",
      "Data columns (total 6 columns):\n",
      " #   Column      Non-Null Count  Dtype \n",
      "---  ------      --------------  ----- \n",
      " 0   audio_path  12613 non-null  object\n",
      " 1   mels_path   12613 non-null  object\n",
      " 2   id          12613 non-null  object\n",
      " 3   audio       12613 non-null  object\n",
      " 4   mels        12613 non-null  object\n",
      " 5   split       12613 non-null  object\n",
      "dtypes: object(6)\n",
      "memory usage: 689.8+ KB\n"
     ]
    }
   ],
   "source": [
    "tmp.info()"
   ]
  },
  {
   "cell_type": "code",
   "execution_count": 16,
   "id": "38a0590c",
   "metadata": {},
   "outputs": [
    {
     "data": {
      "text/plain": [
       "train-clean-100    10280\n",
       "Name: split, dtype: int64"
      ]
     },
     "execution_count": 16,
     "metadata": {},
     "output_type": "execute_result"
    }
   ],
   "source": [
    "tmp[tmp.split!=\"dev-clean\"]"
   ]
  },
  {
   "cell_type": "code",
   "execution_count": 10,
   "id": "58a7f50d",
   "metadata": {},
   "outputs": [],
   "source": [
    "np.savez(\"data/vocoder_librispeech_valid.npz\", tmp[tmp.split==\"dev-clean\"])"
   ]
  },
  {
   "cell_type": "code",
   "execution_count": 17,
   "id": "57a783a2",
   "metadata": {},
   "outputs": [
    {
     "ename": "MemoryError",
     "evalue": "",
     "output_type": "error",
     "traceback": [
      "\u001b[0;31m---------------------------------------------------------------------------\u001b[0m",
      "\u001b[0;31mMemoryError\u001b[0m                               Traceback (most recent call last)",
      "\u001b[0;32m<ipython-input-17-fbf20fd9b522>\u001b[0m in \u001b[0;36m<module>\u001b[0;34m\u001b[0m\n\u001b[0;32m----> 1\u001b[0;31m \u001b[0mnp\u001b[0m\u001b[0;34m.\u001b[0m\u001b[0msavez\u001b[0m\u001b[0;34m(\u001b[0m\u001b[0;34m\"data/vocoder_librispeech_train.npz\"\u001b[0m\u001b[0;34m,\u001b[0m \u001b[0mtmp\u001b[0m\u001b[0;34m[\u001b[0m\u001b[0mtmp\u001b[0m\u001b[0;34m.\u001b[0m\u001b[0msplit\u001b[0m\u001b[0;34m!=\u001b[0m\u001b[0;34m\"dev-clean\"\u001b[0m\u001b[0;34m]\u001b[0m\u001b[0;34m)\u001b[0m\u001b[0;34m\u001b[0m\u001b[0;34m\u001b[0m\u001b[0m\n\u001b[0m",
      "\u001b[0;32m<__array_function__ internals>\u001b[0m in \u001b[0;36msavez\u001b[0;34m(*args, **kwargs)\u001b[0m\n",
      "\u001b[0;32m~/anaconda3/envs/python3/lib/python3.6/site-packages/numpy/lib/npyio.py\u001b[0m in \u001b[0;36msavez\u001b[0;34m(file, *args, **kwds)\u001b[0m\n\u001b[1;32m    614\u001b[0m     \u001b[0marray\u001b[0m\u001b[0;34m(\u001b[0m\u001b[0;34m[\u001b[0m\u001b[0;36m0\u001b[0m\u001b[0;34m,\u001b[0m \u001b[0;36m1\u001b[0m\u001b[0;34m,\u001b[0m \u001b[0;36m2\u001b[0m\u001b[0;34m,\u001b[0m \u001b[0;36m3\u001b[0m\u001b[0;34m,\u001b[0m \u001b[0;36m4\u001b[0m\u001b[0;34m,\u001b[0m \u001b[0;36m5\u001b[0m\u001b[0;34m,\u001b[0m \u001b[0;36m6\u001b[0m\u001b[0;34m,\u001b[0m \u001b[0;36m7\u001b[0m\u001b[0;34m,\u001b[0m \u001b[0;36m8\u001b[0m\u001b[0;34m,\u001b[0m \u001b[0;36m9\u001b[0m\u001b[0;34m]\u001b[0m\u001b[0;34m)\u001b[0m\u001b[0;34m\u001b[0m\u001b[0;34m\u001b[0m\u001b[0m\n\u001b[1;32m    615\u001b[0m     \"\"\"\n\u001b[0;32m--> 616\u001b[0;31m     \u001b[0m_savez\u001b[0m\u001b[0;34m(\u001b[0m\u001b[0mfile\u001b[0m\u001b[0;34m,\u001b[0m \u001b[0margs\u001b[0m\u001b[0;34m,\u001b[0m \u001b[0mkwds\u001b[0m\u001b[0;34m,\u001b[0m \u001b[0;32mFalse\u001b[0m\u001b[0;34m)\u001b[0m\u001b[0;34m\u001b[0m\u001b[0;34m\u001b[0m\u001b[0m\n\u001b[0m\u001b[1;32m    617\u001b[0m \u001b[0;34m\u001b[0m\u001b[0m\n\u001b[1;32m    618\u001b[0m \u001b[0;34m\u001b[0m\u001b[0m\n",
      "\u001b[0;32m~/anaconda3/envs/python3/lib/python3.6/site-packages/numpy/lib/npyio.py\u001b[0m in \u001b[0;36m_savez\u001b[0;34m(file, args, kwds, compress, allow_pickle, pickle_kwargs)\u001b[0m\n\u001b[1;32m    721\u001b[0m                 format.write_array(fid, val,\n\u001b[1;32m    722\u001b[0m                                    \u001b[0mallow_pickle\u001b[0m\u001b[0;34m=\u001b[0m\u001b[0mallow_pickle\u001b[0m\u001b[0;34m,\u001b[0m\u001b[0;34m\u001b[0m\u001b[0;34m\u001b[0m\u001b[0m\n\u001b[0;32m--> 723\u001b[0;31m                                    pickle_kwargs=pickle_kwargs)\n\u001b[0m\u001b[1;32m    724\u001b[0m     \u001b[0;32melse\u001b[0m\u001b[0;34m:\u001b[0m\u001b[0;34m\u001b[0m\u001b[0;34m\u001b[0m\u001b[0m\n\u001b[1;32m    725\u001b[0m         \u001b[0;31m# Stage arrays in a temporary file on disk, before writing to zip.\u001b[0m\u001b[0;34m\u001b[0m\u001b[0;34m\u001b[0m\u001b[0;34m\u001b[0m\u001b[0m\n",
      "\u001b[0;32m~/anaconda3/envs/python3/lib/python3.6/site-packages/numpy/lib/format.py\u001b[0m in \u001b[0;36mwrite_array\u001b[0;34m(fp, array, version, allow_pickle, pickle_kwargs)\u001b[0m\n\u001b[1;32m    662\u001b[0m         \u001b[0;32mif\u001b[0m \u001b[0mpickle_kwargs\u001b[0m \u001b[0;32mis\u001b[0m \u001b[0;32mNone\u001b[0m\u001b[0;34m:\u001b[0m\u001b[0;34m\u001b[0m\u001b[0;34m\u001b[0m\u001b[0m\n\u001b[1;32m    663\u001b[0m             \u001b[0mpickle_kwargs\u001b[0m \u001b[0;34m=\u001b[0m \u001b[0;34m{\u001b[0m\u001b[0;34m}\u001b[0m\u001b[0;34m\u001b[0m\u001b[0;34m\u001b[0m\u001b[0m\n\u001b[0;32m--> 664\u001b[0;31m         \u001b[0mpickle\u001b[0m\u001b[0;34m.\u001b[0m\u001b[0mdump\u001b[0m\u001b[0;34m(\u001b[0m\u001b[0marray\u001b[0m\u001b[0;34m,\u001b[0m \u001b[0mfp\u001b[0m\u001b[0;34m,\u001b[0m \u001b[0mprotocol\u001b[0m\u001b[0;34m=\u001b[0m\u001b[0;36m3\u001b[0m\u001b[0;34m,\u001b[0m \u001b[0;34m**\u001b[0m\u001b[0mpickle_kwargs\u001b[0m\u001b[0;34m)\u001b[0m\u001b[0;34m\u001b[0m\u001b[0;34m\u001b[0m\u001b[0m\n\u001b[0m\u001b[1;32m    665\u001b[0m     \u001b[0;32melif\u001b[0m \u001b[0marray\u001b[0m\u001b[0;34m.\u001b[0m\u001b[0mflags\u001b[0m\u001b[0;34m.\u001b[0m\u001b[0mf_contiguous\u001b[0m \u001b[0;32mand\u001b[0m \u001b[0;32mnot\u001b[0m \u001b[0marray\u001b[0m\u001b[0;34m.\u001b[0m\u001b[0mflags\u001b[0m\u001b[0;34m.\u001b[0m\u001b[0mc_contiguous\u001b[0m\u001b[0;34m:\u001b[0m\u001b[0;34m\u001b[0m\u001b[0;34m\u001b[0m\u001b[0m\n\u001b[1;32m    666\u001b[0m         \u001b[0;32mif\u001b[0m \u001b[0misfileobj\u001b[0m\u001b[0;34m(\u001b[0m\u001b[0mfp\u001b[0m\u001b[0;34m)\u001b[0m\u001b[0;34m:\u001b[0m\u001b[0;34m\u001b[0m\u001b[0;34m\u001b[0m\u001b[0m\n",
      "\u001b[0;31mMemoryError\u001b[0m: "
     ]
    }
   ],
   "source": [
    "np.savez(\"data/vocoder_librispeech_train.npz\", tmp[tmp.split!=\"dev-clean\"])"
   ]
  },
  {
   "cell_type": "code",
   "execution_count": null,
   "id": "deb49686",
   "metadata": {},
   "outputs": [],
   "source": []
  },
  {
   "cell_type": "code",
   "execution_count": null,
   "id": "786f0794",
   "metadata": {},
   "outputs": [],
   "source": []
  },
  {
   "cell_type": "code",
   "execution_count": null,
   "id": "1d137b56",
   "metadata": {},
   "outputs": [],
   "source": []
  },
  {
   "cell_type": "code",
   "execution_count": null,
   "id": "0193e8af",
   "metadata": {},
   "outputs": [],
   "source": []
  },
  {
   "cell_type": "code",
   "execution_count": null,
   "id": "77a7ea87",
   "metadata": {},
   "outputs": [],
   "source": []
  },
  {
   "cell_type": "code",
   "execution_count": null,
   "id": "88d2333a",
   "metadata": {},
   "outputs": [],
   "source": []
  },
  {
   "cell_type": "code",
   "execution_count": null,
   "id": "99102a76",
   "metadata": {},
   "outputs": [],
   "source": []
  },
  {
   "cell_type": "code",
   "execution_count": null,
   "id": "f1c2bd8c",
   "metadata": {},
   "outputs": [],
   "source": []
  },
  {
   "cell_type": "code",
   "execution_count": null,
   "id": "0ca56c55",
   "metadata": {},
   "outputs": [],
   "source": []
  }
 ],
 "metadata": {
  "kernelspec": {
   "display_name": "conda_python3",
   "language": "python",
   "name": "conda_python3"
  },
  "language_info": {
   "codemirror_mode": {
    "name": "ipython",
    "version": 3
   },
   "file_extension": ".py",
   "mimetype": "text/x-python",
   "name": "python",
   "nbconvert_exporter": "python",
   "pygments_lexer": "ipython3",
   "version": "3.6.13"
  }
 },
 "nbformat": 4,
 "nbformat_minor": 5
}
