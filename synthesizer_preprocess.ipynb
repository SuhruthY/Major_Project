{
 "cells": [
  {
   "cell_type": "code",
   "execution_count": 2,
   "id": "8a8a0245",
   "metadata": {},
   "outputs": [
    {
     "name": "stderr",
     "output_type": "stream",
     "text": [
      "/home/ec2-user/anaconda3/envs/python3/lib/python3.6/site-packages/boto3/compat.py:88: PythonDeprecationWarning: Boto3 will no longer support Python 3.6 starting May 30, 2022. To continue receiving service updates, bug fixes, and security updates please upgrade to Python 3.7 or later. More information can be found here: https://aws.amazon.com/blogs/developer/python-support-policy-updates-for-aws-sdks-and-tools/\n",
      "  warnings.warn(warning, PythonDeprecationWarning)\n"
     ]
    }
   ],
   "source": [
    "## Writing to s3\n",
    "from io import BytesIO\n",
    "import numpy as np\n",
    "from urllib.parse import urlparse\n",
    "import boto3\n",
    "client = boto3.client(\"s3\")\n",
    "\n",
    "def to_s3_npy(data: np.array, s3_uri: str):\n",
    "    # s3_uri looks like f\"s3://{BUCKET_NAME}/{KEY}\"\n",
    "    bytes_ = BytesIO()\n",
    "    np.save(bytes_, data, allow_pickle=True)\n",
    "    bytes_.seek(0)\n",
    "    parsed_s3 = urlparse(s3_uri)\n",
    "    client.upload_fileobj(\n",
    "        Fileobj=bytes_, Bucket=parsed_s3.netloc, Key=parsed_s3.path[1:]\n",
    "    )\n",
    "    return True\n",
    "\n",
    "def from_s3_npy(s3_uri: str):\n",
    "    bytes_ = BytesIO()\n",
    "    parsed_s3 = urlparse(s3_uri)\n",
    "    client.download_fileobj(\n",
    "        Fileobj=bytes_, Bucket=parsed_s3.netloc, Key=parsed_s3.path[1:]\n",
    "    )\n",
    "    bytes_.seek(0)\n",
    "    return np.load(bytes_, allow_pickle=True)"
   ]
  },
  {
   "cell_type": "code",
   "execution_count": 3,
   "id": "2c15e6d7",
   "metadata": {},
   "outputs": [
    {
     "data": {
      "text/plain": [
       "(2333, 4)"
      ]
     },
     "execution_count": 3,
     "metadata": {},
     "output_type": "execute_result"
    }
   ],
   "source": [
    "data = from_s3_npy(\"s3://rtvc-data/preprocessed/synthesizer_librispeech_valid.npy\")\n",
    "data.shape"
   ]
  },
  {
   "cell_type": "code",
   "execution_count": 1,
   "id": "25d8791a",
   "metadata": {},
   "outputs": [],
   "source": [
    "import numpy as np\n",
    "import pandas as pd"
   ]
  },
  {
   "cell_type": "code",
   "execution_count": null,
   "id": "e9f1cac4",
   "metadata": {},
   "outputs": [],
   "source": [
    "\n",
    "df[\"id\"] = df.audio_path.apply(lambda x:\"-\".join(x.split(\".\")[0].split(\"-\")[1:]))"
   ]
  },
  {
   "cell_type": "code",
   "execution_count": 12,
   "id": "c9b5fc1c",
   "metadata": {},
   "outputs": [
    {
     "data": {
      "text/html": [
       "<div>\n",
       "<style scoped>\n",
       "    .dataframe tbody tr th:only-of-type {\n",
       "        vertical-align: middle;\n",
       "    }\n",
       "\n",
       "    .dataframe tbody tr th {\n",
       "        vertical-align: top;\n",
       "    }\n",
       "\n",
       "    .dataframe thead th {\n",
       "        text-align: right;\n",
       "    }\n",
       "</style>\n",
       "<table border=\"1\" class=\"dataframe\">\n",
       "  <thead>\n",
       "    <tr style=\"text-align: right;\">\n",
       "      <th></th>\n",
       "      <th>split</th>\n",
       "      <th>id</th>\n",
       "      <th>audio_path</th>\n",
       "      <th>mels_path</th>\n",
       "      <th>embeds_path</th>\n",
       "      <th>wav_len</th>\n",
       "      <th>mel_len</th>\n",
       "      <th>text</th>\n",
       "    </tr>\n",
       "  </thead>\n",
       "  <tbody>\n",
       "    <tr>\n",
       "      <th>0</th>\n",
       "      <td>dev-clean</td>\n",
       "      <td>5536-43363-0010</td>\n",
       "      <td>audio-5536-43363-0010.npy</td>\n",
       "      <td>mel-5536-43363-0010.npy</td>\n",
       "      <td>embed-5536-43363-0010.npy</td>\n",
       "      <td>156480</td>\n",
       "      <td>783</td>\n",
       "      <td>NO DOUBT MANY PREDICTIONS HAVE BEEN COLORED TO...</td>\n",
       "    </tr>\n",
       "    <tr>\n",
       "      <th>1</th>\n",
       "      <td>dev-clean</td>\n",
       "      <td>5536-43363-0007</td>\n",
       "      <td>audio-5536-43363-0007.npy</td>\n",
       "      <td>mel-5536-43363-0007.npy</td>\n",
       "      <td>embed-5536-43363-0007.npy</td>\n",
       "      <td>148320</td>\n",
       "      <td>742</td>\n",
       "      <td>AT EVERY MEAL TIME A DISH OF FOOD WAS PLACED U...</td>\n",
       "    </tr>\n",
       "    <tr>\n",
       "      <th>2</th>\n",
       "      <td>dev-clean</td>\n",
       "      <td>5536-43363-0014</td>\n",
       "      <td>audio-5536-43363-0014.npy</td>\n",
       "      <td>mel-5536-43363-0014.npy</td>\n",
       "      <td>embed-5536-43363-0014.npy</td>\n",
       "      <td>171840</td>\n",
       "      <td>860</td>\n",
       "      <td>AT THE AGE OF ABOUT SEVENTY FIVE YEARS HE SAVE...</td>\n",
       "    </tr>\n",
       "    <tr>\n",
       "      <th>3</th>\n",
       "      <td>dev-clean</td>\n",
       "      <td>5536-43363-0001</td>\n",
       "      <td>audio-5536-43363-0001.npy</td>\n",
       "      <td>mel-5536-43363-0001.npy</td>\n",
       "      <td>embed-5536-43363-0001.npy</td>\n",
       "      <td>103680</td>\n",
       "      <td>519</td>\n",
       "      <td>THEREFORE HE COURTS DEATH IN BATTLE ON THE OTH...</td>\n",
       "    </tr>\n",
       "    <tr>\n",
       "      <th>4</th>\n",
       "      <td>dev-clean</td>\n",
       "      <td>5536-43363-0017</td>\n",
       "      <td>audio-5536-43363-0017.npy</td>\n",
       "      <td>mel-5536-43363-0017.npy</td>\n",
       "      <td>embed-5536-43363-0017.npy</td>\n",
       "      <td>134400</td>\n",
       "      <td>673</td>\n",
       "      <td>AT ANOTHER TIME WHEN I WAS FOURTEEN YEARS OLD ...</td>\n",
       "    </tr>\n",
       "  </tbody>\n",
       "</table>\n",
       "</div>"
      ],
      "text/plain": [
       "       split               id                 audio_path  \\\n",
       "0  dev-clean  5536-43363-0010  audio-5536-43363-0010.npy   \n",
       "1  dev-clean  5536-43363-0007  audio-5536-43363-0007.npy   \n",
       "2  dev-clean  5536-43363-0014  audio-5536-43363-0014.npy   \n",
       "3  dev-clean  5536-43363-0001  audio-5536-43363-0001.npy   \n",
       "4  dev-clean  5536-43363-0017  audio-5536-43363-0017.npy   \n",
       "\n",
       "                 mels_path                embeds_path wav_len mel_len  \\\n",
       "0  mel-5536-43363-0010.npy  embed-5536-43363-0010.npy  156480     783   \n",
       "1  mel-5536-43363-0007.npy  embed-5536-43363-0007.npy  148320     742   \n",
       "2  mel-5536-43363-0014.npy  embed-5536-43363-0014.npy  171840     860   \n",
       "3  mel-5536-43363-0001.npy  embed-5536-43363-0001.npy  103680     519   \n",
       "4  mel-5536-43363-0017.npy  embed-5536-43363-0017.npy  134400     673   \n",
       "\n",
       "                                                text  \n",
       "0  NO DOUBT MANY PREDICTIONS HAVE BEEN COLORED TO...  \n",
       "1  AT EVERY MEAL TIME A DISH OF FOOD WAS PLACED U...  \n",
       "2  AT THE AGE OF ABOUT SEVENTY FIVE YEARS HE SAVE...  \n",
       "3  THEREFORE HE COURTS DEATH IN BATTLE ON THE OTH...  \n",
       "4  AT ANOTHER TIME WHEN I WAS FOURTEEN YEARS OLD ...  "
      ]
     },
     "execution_count": 12,
     "metadata": {},
     "output_type": "execute_result"
    }
   ],
   "source": [
    "from glob import glob\n",
    "\n",
    "df = pd.DataFrame(glob(\"../data/LibriSpeech/dev-clean/*/*/*\") + glob(\"../data/LibriSpeech/train-clean-100/*/*/*\"))\n",
    "\n",
    "df[\"split\"] = df[0].apply(lambda x:x.split(\"/\")[3])\n",
    "df[\"id\"] = df[0].apply(lambda x:x.split(\"/\")[-1].split(\".\")[0])\n",
    "df.drop(0, axis=1, inplace=True)\n",
    "\n",
    "base_dir = \"../data/SV2TTS/synthesizer\"\n",
    "\n",
    "data = []\n",
    "with open(f\"{base_dir}/train.txt\", \"r\") as fh:\n",
    "    for line in fh.readlines():\n",
    "        line = line.split(\"|\")\n",
    "        line.insert(0, \"-\".join(line[0].split(\"-\")[1:]).split(\".\")[0])\n",
    "        data.append(line)     \n",
    "\n",
    "df = df.merge(pd.DataFrame(data, columns=[\"id\", \"audio_path\", \"mels_path\", \"embeds_path\", \"wav_len\", \"mel_len\", \"text\"]))\n",
    "\n",
    "df.head()"
   ]
  },
  {
   "cell_type": "code",
   "execution_count": 15,
   "id": "5deb85da",
   "metadata": {},
   "outputs": [
    {
     "data": {
      "text/plain": [
       "train-clean-100    10280\n",
       "dev-clean           2333\n",
       "Name: split, dtype: int64"
      ]
     },
     "execution_count": 15,
     "metadata": {},
     "output_type": "execute_result"
    }
   ],
   "source": [
    "df.split.value_counts()"
   ]
  },
  {
   "cell_type": "code",
   "execution_count": 18,
   "id": "4a7eb9c5",
   "metadata": {},
   "outputs": [
    {
     "name": "stderr",
     "output_type": "stream",
     "text": [
      "/home/ec2-user/anaconda3/envs/python3/lib/python3.6/site-packages/ipykernel/__main__.py:4: SettingWithCopyWarning: \n",
      "A value is trying to be set on a copy of a slice from a DataFrame.\n",
      "Try using .loc[row_indexer,col_indexer] = value instead\n",
      "\n",
      "See the caveats in the documentation: https://pandas.pydata.org/pandas-docs/stable/user_guide/indexing.html#returning-a-view-versus-a-copy\n"
     ]
    },
    {
     "data": {
      "text/html": [
       "<div>\n",
       "<style scoped>\n",
       "    .dataframe tbody tr th:only-of-type {\n",
       "        vertical-align: middle;\n",
       "    }\n",
       "\n",
       "    .dataframe tbody tr th {\n",
       "        vertical-align: top;\n",
       "    }\n",
       "\n",
       "    .dataframe thead th {\n",
       "        text-align: right;\n",
       "    }\n",
       "</style>\n",
       "<table border=\"1\" class=\"dataframe\">\n",
       "  <thead>\n",
       "    <tr style=\"text-align: right;\">\n",
       "      <th></th>\n",
       "      <th>text</th>\n",
       "      <th>mels</th>\n",
       "      <th>embeds</th>\n",
       "      <th>mel_len</th>\n",
       "    </tr>\n",
       "  </thead>\n",
       "  <tbody>\n",
       "    <tr>\n",
       "      <th>0</th>\n",
       "      <td>NO DOUBT MANY PREDICTIONS HAVE BEEN COLORED TO...</td>\n",
       "      <td>[[-3.113764, -3.4454412, -4.0, -3.9672627, -3....</td>\n",
       "      <td>[0.0, 0.011862858, 0.072159685, 0.0, 0.0046737...</td>\n",
       "      <td>783</td>\n",
       "    </tr>\n",
       "    <tr>\n",
       "      <th>1</th>\n",
       "      <td>AT EVERY MEAL TIME A DISH OF FOOD WAS PLACED U...</td>\n",
       "      <td>[[-2.687537, -3.5373487, -4.0, -3.3967917, -3....</td>\n",
       "      <td>[0.0, 0.0, 0.11203939, 0.0, 0.0, 0.0, 0.075544...</td>\n",
       "      <td>742</td>\n",
       "    </tr>\n",
       "    <tr>\n",
       "      <th>2</th>\n",
       "      <td>AT THE AGE OF ABOUT SEVENTY FIVE YEARS HE SAVE...</td>\n",
       "      <td>[[-2.7382286, -3.8348107, -4.0, -3.4696324, -2...</td>\n",
       "      <td>[0.0, 0.00030589534, 0.06469827, 0.0, 0.0, 0.0...</td>\n",
       "      <td>860</td>\n",
       "    </tr>\n",
       "    <tr>\n",
       "      <th>3</th>\n",
       "      <td>THEREFORE HE COURTS DEATH IN BATTLE ON THE OTH...</td>\n",
       "      <td>[[-3.9332054, -4.0, -3.2723053, -3.0335386, -3...</td>\n",
       "      <td>[0.0, 0.0, 0.06820358, 0.0, 0.0, 0.0, 0.034092...</td>\n",
       "      <td>519</td>\n",
       "    </tr>\n",
       "    <tr>\n",
       "      <th>4</th>\n",
       "      <td>AT ANOTHER TIME WHEN I WAS FOURTEEN YEARS OLD ...</td>\n",
       "      <td>[[-3.8848734, -3.7270896, -3.6729581, -3.31327...</td>\n",
       "      <td>[0.0, 0.011425146, 0.12177499, 0.0, 0.00867847...</td>\n",
       "      <td>673</td>\n",
       "    </tr>\n",
       "  </tbody>\n",
       "</table>\n",
       "</div>"
      ],
      "text/plain": [
       "                                                text  \\\n",
       "0  NO DOUBT MANY PREDICTIONS HAVE BEEN COLORED TO...   \n",
       "1  AT EVERY MEAL TIME A DISH OF FOOD WAS PLACED U...   \n",
       "2  AT THE AGE OF ABOUT SEVENTY FIVE YEARS HE SAVE...   \n",
       "3  THEREFORE HE COURTS DEATH IN BATTLE ON THE OTH...   \n",
       "4  AT ANOTHER TIME WHEN I WAS FOURTEEN YEARS OLD ...   \n",
       "\n",
       "                                                mels  \\\n",
       "0  [[-3.113764, -3.4454412, -4.0, -3.9672627, -3....   \n",
       "1  [[-2.687537, -3.5373487, -4.0, -3.3967917, -3....   \n",
       "2  [[-2.7382286, -3.8348107, -4.0, -3.4696324, -2...   \n",
       "3  [[-3.9332054, -4.0, -3.2723053, -3.0335386, -3...   \n",
       "4  [[-3.8848734, -3.7270896, -3.6729581, -3.31327...   \n",
       "\n",
       "                                              embeds mel_len  \n",
       "0  [0.0, 0.011862858, 0.072159685, 0.0, 0.0046737...     783  \n",
       "1  [0.0, 0.0, 0.11203939, 0.0, 0.0, 0.0, 0.075544...     742  \n",
       "2  [0.0, 0.00030589534, 0.06469827, 0.0, 0.0, 0.0...     860  \n",
       "3  [0.0, 0.0, 0.06820358, 0.0, 0.0, 0.0, 0.034092...     519  \n",
       "4  [0.0, 0.011425146, 0.12177499, 0.0, 0.00867847...     673  "
      ]
     },
     "execution_count": 18,
     "metadata": {},
     "output_type": "execute_result"
    }
   ],
   "source": [
    "tmp = df[df.split==\"dev-clean\"]\n",
    "\n",
    "for name in [\"mels\", \"embeds\"]:\n",
    "    tmp[name] = tmp[f\"{name}_path\"].apply(lambda x: np.load(f\"{base_dir}/{name}/{x}\"))\n",
    "    \n",
    "tmp = tmp[[\"text\", \"mels\", \"embeds\", \"mel_len\"]]\n",
    "\n",
    "tmp.head()"
   ]
  },
  {
   "cell_type": "code",
   "execution_count": 20,
   "id": "ec8e5b7a",
   "metadata": {},
   "outputs": [
    {
     "data": {
      "text/plain": [
       "True"
      ]
     },
     "execution_count": 20,
     "metadata": {},
     "output_type": "execute_result"
    }
   ],
   "source": [
    "to_s3_npy(tmp.to_numpy(), \"s3://rtvc-data/synthesizer_librispeech_valid.npy\")"
   ]
  },
  {
   "cell_type": "code",
   "execution_count": 21,
   "id": "d4496262",
   "metadata": {},
   "outputs": [
    {
     "name": "stderr",
     "output_type": "stream",
     "text": [
      "/home/ec2-user/anaconda3/envs/python3/lib/python3.6/site-packages/ipykernel/__main__.py:4: SettingWithCopyWarning: \n",
      "A value is trying to be set on a copy of a slice from a DataFrame.\n",
      "Try using .loc[row_indexer,col_indexer] = value instead\n",
      "\n",
      "See the caveats in the documentation: https://pandas.pydata.org/pandas-docs/stable/user_guide/indexing.html#returning-a-view-versus-a-copy\n"
     ]
    },
    {
     "data": {
      "text/html": [
       "<div>\n",
       "<style scoped>\n",
       "    .dataframe tbody tr th:only-of-type {\n",
       "        vertical-align: middle;\n",
       "    }\n",
       "\n",
       "    .dataframe tbody tr th {\n",
       "        vertical-align: top;\n",
       "    }\n",
       "\n",
       "    .dataframe thead th {\n",
       "        text-align: right;\n",
       "    }\n",
       "</style>\n",
       "<table border=\"1\" class=\"dataframe\">\n",
       "  <thead>\n",
       "    <tr style=\"text-align: right;\">\n",
       "      <th></th>\n",
       "      <th>text</th>\n",
       "      <th>mels</th>\n",
       "      <th>embeds</th>\n",
       "      <th>mel_len</th>\n",
       "    </tr>\n",
       "  </thead>\n",
       "  <tbody>\n",
       "    <tr>\n",
       "      <th>2333</th>\n",
       "      <td>AT THE WATER WHICH LIES FAR OUT YONDER AND THE...</td>\n",
       "      <td>[[-4.0, -4.0, -4.0, -4.0, -4.0, -4.0, -4.0, -4...</td>\n",
       "      <td>[0.0, 0.0, 0.0, 0.0, 0.005339365, 0.022676293,...</td>\n",
       "      <td>481</td>\n",
       "    </tr>\n",
       "    <tr>\n",
       "      <th>2334</th>\n",
       "      <td>BUT NO MAN ENTERS IT WITHOUT LEAVING HIS BODY ...</td>\n",
       "      <td>[[-2.9456725, -3.2813048, -2.9541447, -2.76079...</td>\n",
       "      <td>[0.0, 0.0, 0.0, 0.0, 0.06057082, 0.045229267, ...</td>\n",
       "      <td>385</td>\n",
       "    </tr>\n",
       "    <tr>\n",
       "      <th>2335</th>\n",
       "      <td>FAR AWAY IN NORTH AMERICA WHERE THE RED INDIAN...</td>\n",
       "      <td>[[-3.2663932, -3.8094645, -3.6030595, -3.34865...</td>\n",
       "      <td>[0.0, 0.039322924, 0.0, 0.0, 0.0, 0.0, 0.0, 0....</td>\n",
       "      <td>291</td>\n",
       "    </tr>\n",
       "    <tr>\n",
       "      <th>2336</th>\n",
       "      <td>AND ON THE TOP OF THESE HE FOUND A HUT OR WIGW...</td>\n",
       "      <td>[[-3.5826182, -4.0, -4.0, -3.3893008, -3.97740...</td>\n",
       "      <td>[0.0, 0.006501352, 0.008210721, 0.0, 0.0052901...</td>\n",
       "      <td>826</td>\n",
       "    </tr>\n",
       "    <tr>\n",
       "      <th>2337</th>\n",
       "      <td>AT THE GATE MY MESSENGER AWAITS YOU AND YOU SH...</td>\n",
       "      <td>[[-2.6499336, -2.6682713, -2.9672568, -3.26982...</td>\n",
       "      <td>[0.0, 0.027821857, 0.01570378, 0.0, 0.0, 0.031...</td>\n",
       "      <td>377</td>\n",
       "    </tr>\n",
       "  </tbody>\n",
       "</table>\n",
       "</div>"
      ],
      "text/plain": [
       "                                                   text  \\\n",
       "2333  AT THE WATER WHICH LIES FAR OUT YONDER AND THE...   \n",
       "2334  BUT NO MAN ENTERS IT WITHOUT LEAVING HIS BODY ...   \n",
       "2335  FAR AWAY IN NORTH AMERICA WHERE THE RED INDIAN...   \n",
       "2336  AND ON THE TOP OF THESE HE FOUND A HUT OR WIGW...   \n",
       "2337  AT THE GATE MY MESSENGER AWAITS YOU AND YOU SH...   \n",
       "\n",
       "                                                   mels  \\\n",
       "2333  [[-4.0, -4.0, -4.0, -4.0, -4.0, -4.0, -4.0, -4...   \n",
       "2334  [[-2.9456725, -3.2813048, -2.9541447, -2.76079...   \n",
       "2335  [[-3.2663932, -3.8094645, -3.6030595, -3.34865...   \n",
       "2336  [[-3.5826182, -4.0, -4.0, -3.3893008, -3.97740...   \n",
       "2337  [[-2.6499336, -2.6682713, -2.9672568, -3.26982...   \n",
       "\n",
       "                                                 embeds mel_len  \n",
       "2333  [0.0, 0.0, 0.0, 0.0, 0.005339365, 0.022676293,...     481  \n",
       "2334  [0.0, 0.0, 0.0, 0.0, 0.06057082, 0.045229267, ...     385  \n",
       "2335  [0.0, 0.039322924, 0.0, 0.0, 0.0, 0.0, 0.0, 0....     291  \n",
       "2336  [0.0, 0.006501352, 0.008210721, 0.0, 0.0052901...     826  \n",
       "2337  [0.0, 0.027821857, 0.01570378, 0.0, 0.0, 0.031...     377  "
      ]
     },
     "execution_count": 21,
     "metadata": {},
     "output_type": "execute_result"
    }
   ],
   "source": [
    "tmp = df[df.split!=\"dev-clean\"]\n",
    "\n",
    "for name in [\"mels\", \"embeds\"]:\n",
    "    tmp[name] = tmp[f\"{name}_path\"].apply(lambda x: np.load(f\"{base_dir}/{name}/{x}\"))\n",
    "    \n",
    "tmp = tmp[[\"text\", \"mels\", \"embeds\", \"mel_len\"]]\n",
    "\n",
    "tmp.head()"
   ]
  },
  {
   "cell_type": "code",
   "execution_count": 22,
   "id": "8f4d799a",
   "metadata": {},
   "outputs": [
    {
     "data": {
      "text/plain": [
       "(10280, 4)"
      ]
     },
     "execution_count": 22,
     "metadata": {},
     "output_type": "execute_result"
    }
   ],
   "source": [
    "tmp.shape"
   ]
  },
  {
   "cell_type": "code",
   "execution_count": 23,
   "id": "7736ec78",
   "metadata": {},
   "outputs": [
    {
     "data": {
      "text/plain": [
       "True"
      ]
     },
     "execution_count": 23,
     "metadata": {},
     "output_type": "execute_result"
    }
   ],
   "source": [
    "to_s3_npy(tmp.to_numpy(), \"s3://rtvc-data/synthesizer_librispeech_train.npy\")"
   ]
  },
  {
   "cell_type": "code",
   "execution_count": null,
   "id": "13871293",
   "metadata": {},
   "outputs": [],
   "source": []
  },
  {
   "cell_type": "code",
   "execution_count": null,
   "id": "27598ac5",
   "metadata": {},
   "outputs": [],
   "source": []
  },
  {
   "cell_type": "code",
   "execution_count": null,
   "id": "870c6dde",
   "metadata": {},
   "outputs": [],
   "source": []
  },
  {
   "cell_type": "code",
   "execution_count": 2,
   "id": "c8effa36",
   "metadata": {},
   "outputs": [
    {
     "data": {
      "text/html": [
       "<div>\n",
       "<style scoped>\n",
       "    .dataframe tbody tr th:only-of-type {\n",
       "        vertical-align: middle;\n",
       "    }\n",
       "\n",
       "    .dataframe tbody tr th {\n",
       "        vertical-align: top;\n",
       "    }\n",
       "\n",
       "    .dataframe thead th {\n",
       "        text-align: right;\n",
       "    }\n",
       "</style>\n",
       "<table border=\"1\" class=\"dataframe\">\n",
       "  <thead>\n",
       "    <tr style=\"text-align: right;\">\n",
       "      <th></th>\n",
       "      <th>audio_path</th>\n",
       "      <th>mels_path</th>\n",
       "      <th>embeds_path</th>\n",
       "      <th>wav_len</th>\n",
       "      <th>mel_len</th>\n",
       "      <th>text</th>\n",
       "      <th>mels</th>\n",
       "      <th>embeds</th>\n",
       "      <th>id</th>\n",
       "    </tr>\n",
       "  </thead>\n",
       "  <tbody>\n",
       "    <tr>\n",
       "      <th>0</th>\n",
       "      <td>audio-5536-43363-0010.npy</td>\n",
       "      <td>mel-5536-43363-0010.npy</td>\n",
       "      <td>embed-5536-43363-0010.npy</td>\n",
       "      <td>156480</td>\n",
       "      <td>783</td>\n",
       "      <td>NO DOUBT MANY PREDICTIONS HAVE BEEN COLORED TO...</td>\n",
       "      <td>[[-3.113764, -3.4454412, -4.0, -3.9672627, -3....</td>\n",
       "      <td>[0.0, 0.011862858, 0.072159685, 0.0, 0.0046737...</td>\n",
       "      <td>5536-43363-0010</td>\n",
       "    </tr>\n",
       "    <tr>\n",
       "      <th>1</th>\n",
       "      <td>audio-5536-43363-0007.npy</td>\n",
       "      <td>mel-5536-43363-0007.npy</td>\n",
       "      <td>embed-5536-43363-0007.npy</td>\n",
       "      <td>148320</td>\n",
       "      <td>742</td>\n",
       "      <td>AT EVERY MEAL TIME A DISH OF FOOD WAS PLACED U...</td>\n",
       "      <td>[[-2.687537, -3.5373487, -4.0, -3.3967917, -3....</td>\n",
       "      <td>[0.0, 0.0, 0.11203939, 0.0, 0.0, 0.0, 0.075544...</td>\n",
       "      <td>5536-43363-0007</td>\n",
       "    </tr>\n",
       "    <tr>\n",
       "      <th>2</th>\n",
       "      <td>audio-5536-43363-0014.npy</td>\n",
       "      <td>mel-5536-43363-0014.npy</td>\n",
       "      <td>embed-5536-43363-0014.npy</td>\n",
       "      <td>171840</td>\n",
       "      <td>860</td>\n",
       "      <td>AT THE AGE OF ABOUT SEVENTY FIVE YEARS HE SAVE...</td>\n",
       "      <td>[[-2.7382286, -3.8348107, -4.0, -3.4696324, -2...</td>\n",
       "      <td>[0.0, 0.00030589534, 0.06469827, 0.0, 0.0, 0.0...</td>\n",
       "      <td>5536-43363-0014</td>\n",
       "    </tr>\n",
       "    <tr>\n",
       "      <th>3</th>\n",
       "      <td>audio-5536-43363-0001.npy</td>\n",
       "      <td>mel-5536-43363-0001.npy</td>\n",
       "      <td>embed-5536-43363-0001.npy</td>\n",
       "      <td>103680</td>\n",
       "      <td>519</td>\n",
       "      <td>THEREFORE HE COURTS DEATH IN BATTLE ON THE OTH...</td>\n",
       "      <td>[[-3.9332054, -4.0, -3.2723053, -3.0335386, -3...</td>\n",
       "      <td>[0.0, 0.0, 0.06820358, 0.0, 0.0, 0.0, 0.034092...</td>\n",
       "      <td>5536-43363-0001</td>\n",
       "    </tr>\n",
       "    <tr>\n",
       "      <th>4</th>\n",
       "      <td>audio-5536-43363-0017.npy</td>\n",
       "      <td>mel-5536-43363-0017.npy</td>\n",
       "      <td>embed-5536-43363-0017.npy</td>\n",
       "      <td>134400</td>\n",
       "      <td>673</td>\n",
       "      <td>AT ANOTHER TIME WHEN I WAS FOURTEEN YEARS OLD ...</td>\n",
       "      <td>[[-3.8848734, -3.7270896, -3.6729581, -3.31327...</td>\n",
       "      <td>[0.0, 0.011425146, 0.12177499, 0.0, 0.00867847...</td>\n",
       "      <td>5536-43363-0017</td>\n",
       "    </tr>\n",
       "  </tbody>\n",
       "</table>\n",
       "</div>"
      ],
      "text/plain": [
       "                  audio_path                mels_path  \\\n",
       "0  audio-5536-43363-0010.npy  mel-5536-43363-0010.npy   \n",
       "1  audio-5536-43363-0007.npy  mel-5536-43363-0007.npy   \n",
       "2  audio-5536-43363-0014.npy  mel-5536-43363-0014.npy   \n",
       "3  audio-5536-43363-0001.npy  mel-5536-43363-0001.npy   \n",
       "4  audio-5536-43363-0017.npy  mel-5536-43363-0017.npy   \n",
       "\n",
       "                 embeds_path wav_len mel_len  \\\n",
       "0  embed-5536-43363-0010.npy  156480     783   \n",
       "1  embed-5536-43363-0007.npy  148320     742   \n",
       "2  embed-5536-43363-0014.npy  171840     860   \n",
       "3  embed-5536-43363-0001.npy  103680     519   \n",
       "4  embed-5536-43363-0017.npy  134400     673   \n",
       "\n",
       "                                                text  \\\n",
       "0  NO DOUBT MANY PREDICTIONS HAVE BEEN COLORED TO...   \n",
       "1  AT EVERY MEAL TIME A DISH OF FOOD WAS PLACED U...   \n",
       "2  AT THE AGE OF ABOUT SEVENTY FIVE YEARS HE SAVE...   \n",
       "3  THEREFORE HE COURTS DEATH IN BATTLE ON THE OTH...   \n",
       "4  AT ANOTHER TIME WHEN I WAS FOURTEEN YEARS OLD ...   \n",
       "\n",
       "                                                mels  \\\n",
       "0  [[-3.113764, -3.4454412, -4.0, -3.9672627, -3....   \n",
       "1  [[-2.687537, -3.5373487, -4.0, -3.3967917, -3....   \n",
       "2  [[-2.7382286, -3.8348107, -4.0, -3.4696324, -2...   \n",
       "3  [[-3.9332054, -4.0, -3.2723053, -3.0335386, -3...   \n",
       "4  [[-3.8848734, -3.7270896, -3.6729581, -3.31327...   \n",
       "\n",
       "                                              embeds               id  \n",
       "0  [0.0, 0.011862858, 0.072159685, 0.0, 0.0046737...  5536-43363-0010  \n",
       "1  [0.0, 0.0, 0.11203939, 0.0, 0.0, 0.0, 0.075544...  5536-43363-0007  \n",
       "2  [0.0, 0.00030589534, 0.06469827, 0.0, 0.0, 0.0...  5536-43363-0014  \n",
       "3  [0.0, 0.0, 0.06820358, 0.0, 0.0, 0.0, 0.034092...  5536-43363-0001  \n",
       "4  [0.0, 0.011425146, 0.12177499, 0.0, 0.00867847...  5536-43363-0017  "
      ]
     },
     "execution_count": 2,
     "metadata": {},
     "output_type": "execute_result"
    }
   ],
   "source": [
    "base_dir = \"../data/SV2TTS/synthesizer\"\n",
    "\n",
    "with open(f\"{base_dir}/train.txt\", \"r\") as fh:\n",
    "    data = [line.split(\"|\") for line in fh.readlines()]\n",
    "\n",
    "df = pd.DataFrame(data, columns=[\"audio_path\", \"mels_path\", \"embeds_path\", \"wav_len\", \"mel_len\", \"text\"])\n",
    "\n",
    "for name in [\"mels\", \"embeds\"]:\n",
    "    df[name] = df[f\"{name}_path\"].apply(lambda x: np.load(f\"{base_dir}/{name}/{x}\"))\n",
    "\n",
    "df[\"id\"] = df.audio_path.apply(lambda x:\"-\".join(x.split(\".\")[0].split(\"-\")[1:]))\n",
    "    \n",
    "df.head()"
   ]
  },
  {
   "cell_type": "code",
   "execution_count": 3,
   "id": "a93041d7",
   "metadata": {},
   "outputs": [
    {
     "data": {
      "text/plain": [
       "(12613, 9)"
      ]
     },
     "execution_count": 3,
     "metadata": {},
     "output_type": "execute_result"
    }
   ],
   "source": [
    "df.shape"
   ]
  },
  {
   "cell_type": "code",
   "execution_count": 4,
   "id": "330250fd",
   "metadata": {},
   "outputs": [
    {
     "data": {
      "text/html": [
       "<div>\n",
       "<style scoped>\n",
       "    .dataframe tbody tr th:only-of-type {\n",
       "        vertical-align: middle;\n",
       "    }\n",
       "\n",
       "    .dataframe tbody tr th {\n",
       "        vertical-align: top;\n",
       "    }\n",
       "\n",
       "    .dataframe thead th {\n",
       "        text-align: right;\n",
       "    }\n",
       "</style>\n",
       "<table border=\"1\" class=\"dataframe\">\n",
       "  <thead>\n",
       "    <tr style=\"text-align: right;\">\n",
       "      <th></th>\n",
       "      <th>split</th>\n",
       "      <th>id</th>\n",
       "    </tr>\n",
       "  </thead>\n",
       "  <tbody>\n",
       "    <tr>\n",
       "      <th>0</th>\n",
       "      <td>dev-clean</td>\n",
       "      <td>5536-43363-0006</td>\n",
       "    </tr>\n",
       "    <tr>\n",
       "      <th>1</th>\n",
       "      <td>dev-clean</td>\n",
       "      <td>5536-43363-0010</td>\n",
       "    </tr>\n",
       "    <tr>\n",
       "      <th>2</th>\n",
       "      <td>dev-clean</td>\n",
       "      <td>5536-43363-0007</td>\n",
       "    </tr>\n",
       "    <tr>\n",
       "      <th>3</th>\n",
       "      <td>dev-clean</td>\n",
       "      <td>5536-43363-0014</td>\n",
       "    </tr>\n",
       "    <tr>\n",
       "      <th>4</th>\n",
       "      <td>dev-clean</td>\n",
       "      <td>5536-43363-0001</td>\n",
       "    </tr>\n",
       "    <tr>\n",
       "      <th>...</th>\n",
       "      <td>...</td>\n",
       "      <td>...</td>\n",
       "    </tr>\n",
       "    <tr>\n",
       "      <th>31919</th>\n",
       "      <td>train-clean-100</td>\n",
       "      <td>839-130898-0069</td>\n",
       "    </tr>\n",
       "    <tr>\n",
       "      <th>31920</th>\n",
       "      <td>train-clean-100</td>\n",
       "      <td>839-130898-0046</td>\n",
       "    </tr>\n",
       "    <tr>\n",
       "      <th>31921</th>\n",
       "      <td>train-clean-100</td>\n",
       "      <td>839-130898-0049</td>\n",
       "    </tr>\n",
       "    <tr>\n",
       "      <th>31922</th>\n",
       "      <td>train-clean-100</td>\n",
       "      <td>839-130898-0097</td>\n",
       "    </tr>\n",
       "    <tr>\n",
       "      <th>31923</th>\n",
       "      <td>train-clean-100</td>\n",
       "      <td>839-130898-0076</td>\n",
       "    </tr>\n",
       "  </tbody>\n",
       "</table>\n",
       "<p>31924 rows × 2 columns</p>\n",
       "</div>"
      ],
      "text/plain": [
       "                 split               id\n",
       "0            dev-clean  5536-43363-0006\n",
       "1            dev-clean  5536-43363-0010\n",
       "2            dev-clean  5536-43363-0007\n",
       "3            dev-clean  5536-43363-0014\n",
       "4            dev-clean  5536-43363-0001\n",
       "...                ...              ...\n",
       "31919  train-clean-100  839-130898-0069\n",
       "31920  train-clean-100  839-130898-0046\n",
       "31921  train-clean-100  839-130898-0049\n",
       "31922  train-clean-100  839-130898-0097\n",
       "31923  train-clean-100  839-130898-0076\n",
       "\n",
       "[31924 rows x 2 columns]"
      ]
     },
     "execution_count": 4,
     "metadata": {},
     "output_type": "execute_result"
    }
   ],
   "source": [
    "from glob import glob\n",
    "\n",
    "mapper = pd.DataFrame(glob(\"../data/LibriSpeech/dev-clean/*/*/*\") + glob(\"../data/LibriSpeech/train-clean-100/*/*/*\"))\n",
    "\n",
    "mapper[\"split\"] = mapper[0].apply(lambda x:x.split(\"/\")[3])\n",
    "\n",
    "mapper[\"id\"] = mapper[0].apply(lambda x:x.split(\"/\")[-1].split(\".\")[0])\n",
    "\n",
    "mapper.drop(0, axis=1, inplace=True)\n",
    "\n",
    "mapper"
   ]
  },
  {
   "cell_type": "code",
   "execution_count": 7,
   "id": "edb85eda",
   "metadata": {},
   "outputs": [
    {
     "data": {
      "text/html": [
       "<div>\n",
       "<style scoped>\n",
       "    .dataframe tbody tr th:only-of-type {\n",
       "        vertical-align: middle;\n",
       "    }\n",
       "\n",
       "    .dataframe tbody tr th {\n",
       "        vertical-align: top;\n",
       "    }\n",
       "\n",
       "    .dataframe thead th {\n",
       "        text-align: right;\n",
       "    }\n",
       "</style>\n",
       "<table border=\"1\" class=\"dataframe\">\n",
       "  <thead>\n",
       "    <tr style=\"text-align: right;\">\n",
       "      <th></th>\n",
       "      <th>audio_path</th>\n",
       "      <th>mels_path</th>\n",
       "      <th>embeds_path</th>\n",
       "      <th>wav_len</th>\n",
       "      <th>mel_len</th>\n",
       "      <th>text</th>\n",
       "      <th>mels</th>\n",
       "      <th>embeds</th>\n",
       "      <th>id</th>\n",
       "      <th>split</th>\n",
       "    </tr>\n",
       "  </thead>\n",
       "  <tbody>\n",
       "    <tr>\n",
       "      <th>0</th>\n",
       "      <td>audio-5536-43363-0010.npy</td>\n",
       "      <td>mel-5536-43363-0010.npy</td>\n",
       "      <td>embed-5536-43363-0010.npy</td>\n",
       "      <td>156480</td>\n",
       "      <td>783</td>\n",
       "      <td>NO DOUBT MANY PREDICTIONS HAVE BEEN COLORED TO...</td>\n",
       "      <td>[[-3.113764, -3.4454412, -4.0, -3.9672627, -3....</td>\n",
       "      <td>[0.0, 0.011862858, 0.072159685, 0.0, 0.0046737...</td>\n",
       "      <td>5536-43363-0010</td>\n",
       "      <td>dev-clean</td>\n",
       "    </tr>\n",
       "    <tr>\n",
       "      <th>1</th>\n",
       "      <td>audio-5536-43363-0007.npy</td>\n",
       "      <td>mel-5536-43363-0007.npy</td>\n",
       "      <td>embed-5536-43363-0007.npy</td>\n",
       "      <td>148320</td>\n",
       "      <td>742</td>\n",
       "      <td>AT EVERY MEAL TIME A DISH OF FOOD WAS PLACED U...</td>\n",
       "      <td>[[-2.687537, -3.5373487, -4.0, -3.3967917, -3....</td>\n",
       "      <td>[0.0, 0.0, 0.11203939, 0.0, 0.0, 0.0, 0.075544...</td>\n",
       "      <td>5536-43363-0007</td>\n",
       "      <td>dev-clean</td>\n",
       "    </tr>\n",
       "    <tr>\n",
       "      <th>2</th>\n",
       "      <td>audio-5536-43363-0014.npy</td>\n",
       "      <td>mel-5536-43363-0014.npy</td>\n",
       "      <td>embed-5536-43363-0014.npy</td>\n",
       "      <td>171840</td>\n",
       "      <td>860</td>\n",
       "      <td>AT THE AGE OF ABOUT SEVENTY FIVE YEARS HE SAVE...</td>\n",
       "      <td>[[-2.7382286, -3.8348107, -4.0, -3.4696324, -2...</td>\n",
       "      <td>[0.0, 0.00030589534, 0.06469827, 0.0, 0.0, 0.0...</td>\n",
       "      <td>5536-43363-0014</td>\n",
       "      <td>dev-clean</td>\n",
       "    </tr>\n",
       "    <tr>\n",
       "      <th>3</th>\n",
       "      <td>audio-5536-43363-0001.npy</td>\n",
       "      <td>mel-5536-43363-0001.npy</td>\n",
       "      <td>embed-5536-43363-0001.npy</td>\n",
       "      <td>103680</td>\n",
       "      <td>519</td>\n",
       "      <td>THEREFORE HE COURTS DEATH IN BATTLE ON THE OTH...</td>\n",
       "      <td>[[-3.9332054, -4.0, -3.2723053, -3.0335386, -3...</td>\n",
       "      <td>[0.0, 0.0, 0.06820358, 0.0, 0.0, 0.0, 0.034092...</td>\n",
       "      <td>5536-43363-0001</td>\n",
       "      <td>dev-clean</td>\n",
       "    </tr>\n",
       "    <tr>\n",
       "      <th>4</th>\n",
       "      <td>audio-5536-43363-0017.npy</td>\n",
       "      <td>mel-5536-43363-0017.npy</td>\n",
       "      <td>embed-5536-43363-0017.npy</td>\n",
       "      <td>134400</td>\n",
       "      <td>673</td>\n",
       "      <td>AT ANOTHER TIME WHEN I WAS FOURTEEN YEARS OLD ...</td>\n",
       "      <td>[[-3.8848734, -3.7270896, -3.6729581, -3.31327...</td>\n",
       "      <td>[0.0, 0.011425146, 0.12177499, 0.0, 0.00867847...</td>\n",
       "      <td>5536-43363-0017</td>\n",
       "      <td>dev-clean</td>\n",
       "    </tr>\n",
       "  </tbody>\n",
       "</table>\n",
       "</div>"
      ],
      "text/plain": [
       "                  audio_path                mels_path  \\\n",
       "0  audio-5536-43363-0010.npy  mel-5536-43363-0010.npy   \n",
       "1  audio-5536-43363-0007.npy  mel-5536-43363-0007.npy   \n",
       "2  audio-5536-43363-0014.npy  mel-5536-43363-0014.npy   \n",
       "3  audio-5536-43363-0001.npy  mel-5536-43363-0001.npy   \n",
       "4  audio-5536-43363-0017.npy  mel-5536-43363-0017.npy   \n",
       "\n",
       "                 embeds_path wav_len mel_len  \\\n",
       "0  embed-5536-43363-0010.npy  156480     783   \n",
       "1  embed-5536-43363-0007.npy  148320     742   \n",
       "2  embed-5536-43363-0014.npy  171840     860   \n",
       "3  embed-5536-43363-0001.npy  103680     519   \n",
       "4  embed-5536-43363-0017.npy  134400     673   \n",
       "\n",
       "                                                text  \\\n",
       "0  NO DOUBT MANY PREDICTIONS HAVE BEEN COLORED TO...   \n",
       "1  AT EVERY MEAL TIME A DISH OF FOOD WAS PLACED U...   \n",
       "2  AT THE AGE OF ABOUT SEVENTY FIVE YEARS HE SAVE...   \n",
       "3  THEREFORE HE COURTS DEATH IN BATTLE ON THE OTH...   \n",
       "4  AT ANOTHER TIME WHEN I WAS FOURTEEN YEARS OLD ...   \n",
       "\n",
       "                                                mels  \\\n",
       "0  [[-3.113764, -3.4454412, -4.0, -3.9672627, -3....   \n",
       "1  [[-2.687537, -3.5373487, -4.0, -3.3967917, -3....   \n",
       "2  [[-2.7382286, -3.8348107, -4.0, -3.4696324, -2...   \n",
       "3  [[-3.9332054, -4.0, -3.2723053, -3.0335386, -3...   \n",
       "4  [[-3.8848734, -3.7270896, -3.6729581, -3.31327...   \n",
       "\n",
       "                                              embeds               id  \\\n",
       "0  [0.0, 0.011862858, 0.072159685, 0.0, 0.0046737...  5536-43363-0010   \n",
       "1  [0.0, 0.0, 0.11203939, 0.0, 0.0, 0.0, 0.075544...  5536-43363-0007   \n",
       "2  [0.0, 0.00030589534, 0.06469827, 0.0, 0.0, 0.0...  5536-43363-0014   \n",
       "3  [0.0, 0.0, 0.06820358, 0.0, 0.0, 0.0, 0.034092...  5536-43363-0001   \n",
       "4  [0.0, 0.011425146, 0.12177499, 0.0, 0.00867847...  5536-43363-0017   \n",
       "\n",
       "       split  \n",
       "0  dev-clean  \n",
       "1  dev-clean  \n",
       "2  dev-clean  \n",
       "3  dev-clean  \n",
       "4  dev-clean  "
      ]
     },
     "execution_count": 7,
     "metadata": {},
     "output_type": "execute_result"
    }
   ],
   "source": [
    "tmp = df.merge(mapper)\n",
    "tmp.head()"
   ]
  },
  {
   "cell_type": "code",
   "execution_count": 23,
   "id": "f61c95c6",
   "metadata": {},
   "outputs": [
    {
     "data": {
      "text/plain": [
       "(12613, 10)"
      ]
     },
     "execution_count": 23,
     "metadata": {},
     "output_type": "execute_result"
    }
   ],
   "source": [
    "tmp.shape"
   ]
  },
  {
   "cell_type": "code",
   "execution_count": 8,
   "id": "06767e84",
   "metadata": {},
   "outputs": [
    {
     "data": {
      "text/plain": [
       "train-clean-100    10280\n",
       "dev-clean           2333\n",
       "Name: split, dtype: int64"
      ]
     },
     "execution_count": 8,
     "metadata": {},
     "output_type": "execute_result"
    }
   ],
   "source": [
    "tmp.split.value_counts()"
   ]
  },
  {
   "cell_type": "code",
   "execution_count": 9,
   "id": "013cad53",
   "metadata": {},
   "outputs": [],
   "source": [
    "data = tmp[tmp.split==\"dev-clean\"][[\"text\", \"mels\", \"embeds\", \"mel_len\"]].to_numpy()\n",
    "np.savez(\"data/synthesizer_librispeech_valid.npz\", data=data)\n",
    "\n",
    "data = tmp[tmp.split!=\"dev-clean\"][[\"text\", \"mels\", \"embeds\", \"mel_len\"]].to_numpy()\n",
    "np.savez(\"data/synthesizer_librispeech_train.npz\", data=data)"
   ]
  },
  {
   "cell_type": "code",
   "execution_count": 26,
   "id": "bd25a278",
   "metadata": {},
   "outputs": [],
   "source": []
  },
  {
   "cell_type": "code",
   "execution_count": null,
   "id": "471f76e9",
   "metadata": {},
   "outputs": [],
   "source": []
  },
  {
   "cell_type": "code",
   "execution_count": null,
   "id": "ed4c789f",
   "metadata": {},
   "outputs": [],
   "source": []
  },
  {
   "cell_type": "code",
   "execution_count": null,
   "id": "8ede80d6",
   "metadata": {},
   "outputs": [],
   "source": []
  },
  {
   "cell_type": "code",
   "execution_count": null,
   "id": "5722034e",
   "metadata": {},
   "outputs": [],
   "source": []
  },
  {
   "cell_type": "code",
   "execution_count": null,
   "id": "c803c154",
   "metadata": {},
   "outputs": [],
   "source": []
  },
  {
   "cell_type": "code",
   "execution_count": null,
   "id": "a19ab446",
   "metadata": {},
   "outputs": [],
   "source": []
  },
  {
   "cell_type": "code",
   "execution_count": null,
   "id": "2ce30ed8",
   "metadata": {},
   "outputs": [],
   "source": []
  },
  {
   "cell_type": "code",
   "execution_count": null,
   "id": "34502861",
   "metadata": {},
   "outputs": [],
   "source": []
  }
 ],
 "metadata": {
  "kernelspec": {
   "display_name": "conda_python3",
   "language": "python",
   "name": "conda_python3"
  },
  "language_info": {
   "codemirror_mode": {
    "name": "ipython",
    "version": 3
   },
   "file_extension": ".py",
   "mimetype": "text/x-python",
   "name": "python",
   "nbconvert_exporter": "python",
   "pygments_lexer": "ipython3",
   "version": "3.6.13"
  }
 },
 "nbformat": 4,
 "nbformat_minor": 5
}
